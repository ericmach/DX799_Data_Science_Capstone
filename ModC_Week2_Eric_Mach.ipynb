{
 "cells": [
  {
   "cell_type": "code",
   "execution_count": 1,
   "metadata": {},
   "outputs": [],
   "source": [
    "import numpy as np\n",
    "import pandas as pd\n",
    "import matplotlib.pyplot as plt\n",
    "import seaborn as sns\n",
    "import chardet"
   ]
  },
  {
   "cell_type": "code",
   "execution_count": 2,
   "metadata": {},
   "outputs": [],
   "source": [
    "file_path = 'IRENA_RenewableEnergy_Statistics_2000-2022.csv'\n",
    "\n",
    "with open(file_path, 'rb') as f:\n",
    "    result = chardet.detect(f.read())\n",
    "\n",
    "df_irena = pd.read_csv(file_path, encoding=result['encoding'])\n",
    "\n",
    "file_path_1 = 'organised_Gen.csv'\n",
    "\n",
    "with open(file_path_1, 'rb') as f:\n",
    "    result = chardet.detect(f.read())\n",
    "\n",
    "df_us_data = pd.read_csv(file_path_1, encoding=result['encoding'])\n",
    "\n",
    "file_path_2 = '02 modern-renewable-energy-consumption.csv'\n",
    "\n",
    "with open(file_path_2, 'rb') as f:\n",
    "    result = chardet.detect(f.read())\n",
    "\n",
    "df_world_data = pd.read_csv(file_path_2, encoding=result['encoding'])"
   ]
  },
  {
   "cell_type": "code",
   "execution_count": 27,
   "metadata": {},
   "outputs": [],
   "source": [
    "from sklearn.model_selection import train_test_split\n",
    "from sklearn.preprocessing import StandardScaler, OneHotEncoder\n",
    "from sklearn.compose import ColumnTransformer\n",
    "from sklearn.pipeline import Pipeline\n",
    "from sklearn.linear_model import Ridge, Lasso, ElasticNet\n",
    "from sklearn.metrics import mean_squared_error, r2_score"
   ]
  },
  {
   "cell_type": "code",
   "execution_count": 29,
   "metadata": {},
   "outputs": [
    {
     "name": "stderr",
     "output_type": "stream",
     "text": [
      "/Library/Frameworks/Python.framework/Versions/3.12/lib/python3.12/site-packages/sklearn/linear_model/_coordinate_descent.py:656: ConvergenceWarning: Objective did not converge. You might want to increase the number of iterations. Duality gap: 7758829439415.031, tolerance: 30605951887.374214\n",
      "  model = cd_fast.sparse_enet_coordinate_descent(\n"
     ]
    }
   ],
   "source": [
    "df = df_irena.dropna(subset=['Electricity Generation (GWh)'])\n",
    "\n",
    "y = df['Electricity Generation (GWh)']\n",
    "X = df.drop(columns=['Electricity Generation (GWh)', 'Electricity Installed Capacity (MW)'])\n",
    "\n",
    "categorical_cols = ['Region', 'Sub-region', 'Country', 'RE or Non-RE', 'Group Technology', 'Technology', 'Producer Type']\n",
    "numerical_cols = ['Year']\n",
    "\n",
    "preprocessor = ColumnTransformer(\n",
    "    transformers=[\n",
    "        ('num', StandardScaler(), numerical_cols),\n",
    "        ('cat', OneHotEncoder(handle_unknown='ignore'), categorical_cols)\n",
    "    ]\n",
    ")\n",
    "\n",
    "X_train, X_test, y_train, y_test = train_test_split(X, y, test_size=0.2, random_state=42)\n",
    "\n",
    "models = {\n",
    "    'Ridge': Ridge(alpha=1.0),\n",
    "    'Lasso': Lasso(alpha=1.0),\n",
    "    'ElasticNet': ElasticNet(alpha=1.0, l1_ratio=0.5)\n",
    "}\n",
    "\n",
    "results = {}\n",
    "\n",
    "for name, model in models.items():\n",
    "    pipeline = Pipeline(steps=[\n",
    "        ('preprocessor', preprocessor),\n",
    "        ('regressor', model)\n",
    "    ])\n",
    "    pipeline.fit(X_train, y_train)\n",
    "    y_pred = pipeline.predict(X_test)\n",
    "    results[name] = {\n",
    "        'RMSE': np.sqrt(mean_squared_error(y_test, y_pred)),\n",
    "        'R2': r2_score(y_test, y_pred),\n",
    "        'Model': pipeline\n",
    "    }\n",
    "\n",
    "results_df = pd.DataFrame({\n",
    "    model: {\n",
    "        'RMSE': round(metrics['RMSE'], 2),\n",
    "        'R2': round(metrics['R2'], 4)\n",
    "    } for model, metrics in results.items()\n",
    "})\n"
   ]
  },
  {
   "cell_type": "code",
   "execution_count": 30,
   "metadata": {},
   "outputs": [
    {
     "data": {
      "text/html": [
       "<div>\n",
       "<style scoped>\n",
       "    .dataframe tbody tr th:only-of-type {\n",
       "        vertical-align: middle;\n",
       "    }\n",
       "\n",
       "    .dataframe tbody tr th {\n",
       "        vertical-align: top;\n",
       "    }\n",
       "\n",
       "    .dataframe thead th {\n",
       "        text-align: right;\n",
       "    }\n",
       "</style>\n",
       "<table border=\"1\" class=\"dataframe\">\n",
       "  <thead>\n",
       "    <tr style=\"text-align: right;\">\n",
       "      <th></th>\n",
       "      <th>Ridge</th>\n",
       "      <th>Lasso</th>\n",
       "      <th>ElasticNet</th>\n",
       "    </tr>\n",
       "  </thead>\n",
       "  <tbody>\n",
       "    <tr>\n",
       "      <th>RMSE</th>\n",
       "      <td>137616.7800</td>\n",
       "      <td>137608.0900</td>\n",
       "      <td>148136.420</td>\n",
       "    </tr>\n",
       "    <tr>\n",
       "      <th>R2</th>\n",
       "      <td>0.1586</td>\n",
       "      <td>0.1587</td>\n",
       "      <td>0.025</td>\n",
       "    </tr>\n",
       "  </tbody>\n",
       "</table>\n",
       "</div>"
      ],
      "text/plain": [
       "            Ridge        Lasso  ElasticNet\n",
       "RMSE  137616.7800  137608.0900  148136.420\n",
       "R2         0.1586       0.1587       0.025"
      ]
     },
     "execution_count": 30,
     "metadata": {},
     "output_type": "execute_result"
    }
   ],
   "source": [
    "results_df"
   ]
  },
  {
   "cell_type": "code",
   "execution_count": 32,
   "metadata": {},
   "outputs": [],
   "source": [
    "preprocessor = pipeline.named_steps['preprocessor']\n",
    "\n",
    "cat = preprocessor.named_transformers_['cat']\n",
    "encoded_cat_features = cat.get_feature_names_out(categorical_cols)\n",
    "all_features = numerical_cols + list(encoded_cat_features)"
   ]
  },
  {
   "cell_type": "code",
   "execution_count": 36,
   "metadata": {},
   "outputs": [
    {
     "data": {
      "text/plain": [
       "Technology_Coal and peat                  6405.716291\n",
       "Sub-region_Eastern Asia                   5027.537306\n",
       "Sub-region_Northern America               4910.134703\n",
       "Country_United States of America (the)    4790.499689\n",
       "Technology_Oil                           -4661.517155\n",
       "RE or Non-RE_Total Non-Renewable          4559.012542\n",
       "RE or Non-RE_Total Renewable             -4559.008672\n",
       "Country_China                             4290.917111\n",
       "Group Technology_Fossil fuels             4013.805721\n",
       "Region_Asia                               3318.726788\n",
       "dtype: float64"
      ]
     },
     "execution_count": 36,
     "metadata": {},
     "output_type": "execute_result"
    }
   ],
   "source": [
    "coefs = pipeline.named_steps['regressor'].coef_\n",
    "\n",
    "coef_df = pd.Series(coefs, index=all_features).sort_values(key=abs, ascending=False)\n",
    "coef_df.head(10)"
   ]
  }
 ],
 "metadata": {
  "kernelspec": {
   "display_name": "Python 3",
   "language": "python",
   "name": "python3"
  },
  "language_info": {
   "codemirror_mode": {
    "name": "ipython",
    "version": 3
   },
   "file_extension": ".py",
   "mimetype": "text/x-python",
   "name": "python",
   "nbconvert_exporter": "python",
   "pygments_lexer": "ipython3",
   "version": "3.12.1"
  }
 },
 "nbformat": 4,
 "nbformat_minor": 2
}
