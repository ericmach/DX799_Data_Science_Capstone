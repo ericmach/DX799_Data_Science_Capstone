{
 "cells": [
  {
   "cell_type": "code",
   "execution_count": 2,
   "metadata": {},
   "outputs": [],
   "source": [
    "from sklearn.preprocessing import StandardScaler, OneHotEncoder\n",
    "from sklearn.decomposition import PCA\n",
    "from sklearn.linear_model import LogisticRegression\n",
    "from sklearn.pipeline import make_pipeline\n",
    "from sklearn.metrics import classification_report\n",
    "from sklearn.compose import ColumnTransformer\n",
    "from sklearn.model_selection import train_test_split\n",
    "from sklearn.metrics import r2_score, mean_squared_error"
   ]
  },
  {
   "cell_type": "code",
   "execution_count": 3,
   "metadata": {},
   "outputs": [],
   "source": [
    "import numpy as np\n",
    "import pandas as pd\n",
    "import matplotlib.pyplot as plt\n",
    "import seaborn as sns\n",
    "import chardet"
   ]
  },
  {
   "cell_type": "code",
   "execution_count": 4,
   "metadata": {},
   "outputs": [],
   "source": [
    "file_path = 'IRENA_RenewableEnergy_Statistics_2000-2022.csv'\n",
    "\n",
    "with open(file_path, 'rb') as f:\n",
    "    result = chardet.detect(f.read())\n",
    "\n",
    "df_irena = pd.read_csv(file_path, encoding=result['encoding'])\n",
    "\n",
    "file_path_1 = 'organised_Gen.csv'\n",
    "\n",
    "with open(file_path_1, 'rb') as f:\n",
    "    result = chardet.detect(f.read())\n",
    "\n",
    "df_us_data = pd.read_csv(file_path_1, encoding=result['encoding'])\n",
    "\n",
    "file_path_2 = '02 modern-renewable-energy-consumption.csv'\n",
    "\n",
    "with open(file_path_2, 'rb') as f:\n",
    "    result = chardet.detect(f.read())\n",
    "\n",
    "df_world_data = pd.read_csv(file_path_2, encoding=result['encoding'])"
   ]
  },
  {
   "cell_type": "code",
   "execution_count": 5,
   "metadata": {},
   "outputs": [],
   "source": [
    "df_world_filtered = df_world_data[df_world_data['Entity'] != 'World']\n",
    "df_countries = df_world_filtered[df_world_filtered['Code'].notna()]"
   ]
  },
  {
   "cell_type": "code",
   "execution_count": 6,
   "metadata": {},
   "outputs": [
    {
     "data": {
      "text/html": [
       "<div>\n",
       "<style scoped>\n",
       "    .dataframe tbody tr th:only-of-type {\n",
       "        vertical-align: middle;\n",
       "    }\n",
       "\n",
       "    .dataframe tbody tr th {\n",
       "        vertical-align: top;\n",
       "    }\n",
       "\n",
       "    .dataframe thead th {\n",
       "        text-align: right;\n",
       "    }\n",
       "</style>\n",
       "<table border=\"1\" class=\"dataframe\">\n",
       "  <thead>\n",
       "    <tr style=\"text-align: right;\">\n",
       "      <th></th>\n",
       "      <th>Year</th>\n",
       "      <th>Geo Biomass Other - TWh</th>\n",
       "      <th>Solar Generation - TWh</th>\n",
       "      <th>Wind Generation - TWh</th>\n",
       "      <th>Hydro Generation - TWh</th>\n",
       "    </tr>\n",
       "  </thead>\n",
       "  <tbody>\n",
       "    <tr>\n",
       "      <th>count</th>\n",
       "      <td>4242.000000</td>\n",
       "      <td>4173.000000</td>\n",
       "      <td>4173.000000</td>\n",
       "      <td>4173.000000</td>\n",
       "      <td>4235.000000</td>\n",
       "    </tr>\n",
       "    <tr>\n",
       "      <th>mean</th>\n",
       "      <td>1994.103960</td>\n",
       "      <td>2.754773</td>\n",
       "      <td>1.133695</td>\n",
       "      <td>3.091469</td>\n",
       "      <td>30.258398</td>\n",
       "    </tr>\n",
       "    <tr>\n",
       "      <th>std</th>\n",
       "      <td>16.243789</td>\n",
       "      <td>9.494644</td>\n",
       "      <td>10.074546</td>\n",
       "      <td>22.486682</td>\n",
       "      <td>84.752667</td>\n",
       "    </tr>\n",
       "    <tr>\n",
       "      <th>min</th>\n",
       "      <td>1965.000000</td>\n",
       "      <td>0.000000</td>\n",
       "      <td>0.000000</td>\n",
       "      <td>0.000000</td>\n",
       "      <td>0.000000</td>\n",
       "    </tr>\n",
       "    <tr>\n",
       "      <th>25%</th>\n",
       "      <td>1980.000000</td>\n",
       "      <td>0.000000</td>\n",
       "      <td>0.000000</td>\n",
       "      <td>0.000000</td>\n",
       "      <td>0.410000</td>\n",
       "    </tr>\n",
       "    <tr>\n",
       "      <th>50%</th>\n",
       "      <td>1995.000000</td>\n",
       "      <td>0.038000</td>\n",
       "      <td>0.000000</td>\n",
       "      <td>0.000000</td>\n",
       "      <td>4.517000</td>\n",
       "    </tr>\n",
       "    <tr>\n",
       "      <th>75%</th>\n",
       "      <td>2008.000000</td>\n",
       "      <td>1.210555</td>\n",
       "      <td>0.005270</td>\n",
       "      <td>0.062000</td>\n",
       "      <td>21.658190</td>\n",
       "    </tr>\n",
       "    <tr>\n",
       "      <th>max</th>\n",
       "      <td>2021.000000</td>\n",
       "      <td>169.931580</td>\n",
       "      <td>327.000000</td>\n",
       "      <td>655.600000</td>\n",
       "      <td>1321.709000</td>\n",
       "    </tr>\n",
       "  </tbody>\n",
       "</table>\n",
       "</div>"
      ],
      "text/plain": [
       "              Year  Geo Biomass Other - TWh  Solar Generation - TWh  \\\n",
       "count  4242.000000              4173.000000             4173.000000   \n",
       "mean   1994.103960                 2.754773                1.133695   \n",
       "std      16.243789                 9.494644               10.074546   \n",
       "min    1965.000000                 0.000000                0.000000   \n",
       "25%    1980.000000                 0.000000                0.000000   \n",
       "50%    1995.000000                 0.038000                0.000000   \n",
       "75%    2008.000000                 1.210555                0.005270   \n",
       "max    2021.000000               169.931580              327.000000   \n",
       "\n",
       "       Wind Generation - TWh  Hydro Generation - TWh  \n",
       "count            4173.000000             4235.000000  \n",
       "mean                3.091469               30.258398  \n",
       "std                22.486682               84.752667  \n",
       "min                 0.000000                0.000000  \n",
       "25%                 0.000000                0.410000  \n",
       "50%                 0.000000                4.517000  \n",
       "75%                 0.062000               21.658190  \n",
       "max               655.600000             1321.709000  "
      ]
     },
     "execution_count": 6,
     "metadata": {},
     "output_type": "execute_result"
    }
   ],
   "source": [
    "df_countries.describe()"
   ]
  },
  {
   "cell_type": "code",
   "execution_count": 7,
   "metadata": {},
   "outputs": [
    {
     "name": "stdout",
     "output_type": "stream",
     "text": [
      "[[ 0.76170765  2.83650004 -1.32446809]]\n",
      "[-4.19424145]\n"
     ]
    },
    {
     "name": "stderr",
     "output_type": "stream",
     "text": [
      "/var/folders/2r/46mxdql52bn78bp6pr2cps340000gn/T/ipykernel_9684/493299034.py:1: SettingWithCopyWarning: \n",
      "A value is trying to be set on a copy of a slice from a DataFrame.\n",
      "Try using .loc[row_indexer,col_indexer] = value instead\n",
      "\n",
      "See the caveats in the documentation: https://pandas.pydata.org/pandas-docs/stable/user_guide/indexing.html#returning-a-view-versus-a-copy\n",
      "  df_countries['High_Solar'] = (df_countries['Solar Generation - TWh'] > 5).astype(int)\n"
     ]
    }
   ],
   "source": [
    "df_countries['High_Solar'] = (df_countries['Solar Generation - TWh'] > 5).astype(int)\n",
    "\n",
    "feature_cols = ['Geo Biomass Other - TWh', 'Wind Generation - TWh', 'Hydro Generation - TWh']\n",
    "df_model = df_countries.dropna(subset=feature_cols + ['High_Solar'])\n",
    "\n",
    "X = df_model[feature_cols]\n",
    "y = df_model['High_Solar']\n",
    "\n",
    "scaler = StandardScaler()\n",
    "X_scaled = scaler.fit_transform(X)\n",
    "\n",
    "X_train, X_test, y_train, y_test = train_test_split(X_scaled, y, test_size=0.2, random_state=42)\n",
    "\n",
    "model = LogisticRegression()\n",
    "model.fit(X_train, y_train)\n",
    "\n",
    "y_pred = model.predict(X_test)\n",
    "report = classification_report(y_test, y_pred, output_dict=False)\n",
    "\n",
    "print(model.coef_)\n",
    "print(model.intercept_)"
   ]
  },
  {
   "cell_type": "code",
   "execution_count": 8,
   "metadata": {},
   "outputs": [
    {
     "name": "stdout",
     "output_type": "stream",
     "text": [
      "              precision    recall  f1-score   support\n",
      "\n",
      "           0       0.98      1.00      0.99       802\n",
      "           1       0.89      0.50      0.64        32\n",
      "\n",
      "    accuracy                           0.98       834\n",
      "   macro avg       0.93      0.75      0.81       834\n",
      "weighted avg       0.98      0.98      0.98       834\n",
      "\n"
     ]
    }
   ],
   "source": [
    "print(report)"
   ]
  },
  {
   "cell_type": "code",
   "execution_count": 9,
   "metadata": {},
   "outputs": [
    {
     "name": "stdout",
     "output_type": "stream",
     "text": [
      "[[ 3.44507234 14.33727659 -3.07089646]]\n",
      "[4.91482229]\n"
     ]
    }
   ],
   "source": [
    "from sklearn.utils import resample\n",
    "\n",
    "df_combined = df_model[feature_cols + ['High_Solar']]\n",
    "\n",
    "df_majority = df_combined[df_combined.High_Solar == 0]\n",
    "df_minority = df_combined[df_combined.High_Solar == 1]\n",
    "\n",
    "df_minority_upsampled = resample(df_minority,\n",
    "                                 replace=True,\n",
    "                                 n_samples=len(df_majority),\n",
    "                                 random_state=42)\n",
    "\n",
    "df_upsampled = pd.concat([df_majority, df_minority_upsampled])\n",
    "\n",
    "X_up = df_upsampled[feature_cols]\n",
    "y_up = df_upsampled['High_Solar']\n",
    "\n",
    "X_up_scaled = scaler.fit_transform(X_up)\n",
    "\n",
    "X_train_up, X_test_up, y_train_up, y_test_up = train_test_split(X_up_scaled, y_up, test_size=0.2, random_state=42)\n",
    "\n",
    "model_up = LogisticRegression()\n",
    "model_up.fit(X_train_up, y_train_up)\n",
    "\n",
    "y_pred_up = model_up.predict(X_test_up)\n",
    "report_up = classification_report(y_test_up, y_pred_up, output_dict=False)\n",
    "\n",
    "print(model_up.coef_)\n",
    "print(model_up.intercept_)"
   ]
  },
  {
   "cell_type": "code",
   "execution_count": 10,
   "metadata": {},
   "outputs": [
    {
     "name": "stdout",
     "output_type": "stream",
     "text": [
      "              precision    recall  f1-score   support\n",
      "\n",
      "           0       0.89      0.98      0.93       795\n",
      "           1       0.98      0.88      0.93       816\n",
      "\n",
      "    accuracy                           0.93      1611\n",
      "   macro avg       0.94      0.93      0.93      1611\n",
      "weighted avg       0.94      0.93      0.93      1611\n",
      "\n"
     ]
    }
   ],
   "source": [
    "print(report_up)"
   ]
  }
 ],
 "metadata": {
  "kernelspec": {
   "display_name": "Python 3",
   "language": "python",
   "name": "python3"
  },
  "language_info": {
   "codemirror_mode": {
    "name": "ipython",
    "version": 3
   },
   "file_extension": ".py",
   "mimetype": "text/x-python",
   "name": "python",
   "nbconvert_exporter": "python",
   "pygments_lexer": "ipython3",
   "version": "3.12.1"
  }
 },
 "nbformat": 4,
 "nbformat_minor": 2
}
