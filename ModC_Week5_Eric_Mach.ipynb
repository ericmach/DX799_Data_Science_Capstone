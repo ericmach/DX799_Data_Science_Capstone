{
 "cells": [
  {
   "cell_type": "code",
   "execution_count": 1,
   "metadata": {},
   "outputs": [],
   "source": [
    "import numpy as np\n",
    "import pandas as pd\n",
    "import matplotlib.pyplot as plt\n",
    "import seaborn as sns\n",
    "import chardet"
   ]
  },
  {
   "cell_type": "code",
   "execution_count": 4,
   "metadata": {},
   "outputs": [],
   "source": [
    "from sklearn.svm import SVC\n",
    "from sklearn.metrics import classification_report\n",
    "from sklearn.model_selection import train_test_split\n",
    "from sklearn.preprocessing import StandardScaler\n",
    "from sklearn.utils import resample"
   ]
  },
  {
   "cell_type": "code",
   "execution_count": 3,
   "metadata": {},
   "outputs": [],
   "source": [
    "file_path = 'IRENA_RenewableEnergy_Statistics_2000-2022.csv'\n",
    "\n",
    "with open(file_path, 'rb') as f:\n",
    "    result = chardet.detect(f.read())\n",
    "\n",
    "df_irena = pd.read_csv(file_path, encoding=result['encoding'])\n",
    "\n",
    "file_path_1 = 'organised_Gen.csv'\n",
    "\n",
    "with open(file_path_1, 'rb') as f:\n",
    "    result = chardet.detect(f.read())\n",
    "\n",
    "df_us_data = pd.read_csv(file_path_1, encoding=result['encoding'])\n",
    "\n",
    "file_path_2 = '02 modern-renewable-energy-consumption.csv'\n",
    "\n",
    "with open(file_path_2, 'rb') as f:\n",
    "    result = chardet.detect(f.read())\n",
    "\n",
    "df_world_data = pd.read_csv(file_path_2, encoding=result['encoding'])"
   ]
  },
  {
   "cell_type": "code",
   "execution_count": 13,
   "metadata": {},
   "outputs": [
    {
     "name": "stderr",
     "output_type": "stream",
     "text": [
      "/var/folders/2r/46mxdql52bn78bp6pr2cps340000gn/T/ipykernel_9581/4065852586.py:2: SettingWithCopyWarning: \n",
      "A value is trying to be set on a copy of a slice from a DataFrame.\n",
      "Try using .loc[row_indexer,col_indexer] = value instead\n",
      "\n",
      "See the caveats in the documentation: https://pandas.pydata.org/pandas-docs/stable/user_guide/indexing.html#returning-a-view-versus-a-copy\n",
      "  df_filtered['High_Solar'] = (df_filtered['Solar Generation - TWh'] > 5).astype(int)\n"
     ]
    }
   ],
   "source": [
    "df_filtered = df_world_data[(df_world_data['Entity'] != 'World') & (df_world_data['Code'].notna())]\n",
    "df_filtered['High_Solar'] = (df_filtered['Solar Generation - TWh'] > 5).astype(int)\n",
    "feature_cols = ['Geo Biomass Other - TWh', 'Wind Generation - TWh', 'Hydro Generation - TWh']\n",
    "df_model = df_filtered.dropna(subset=feature_cols + ['High_Solar'])"
   ]
  },
  {
   "cell_type": "code",
   "execution_count": 15,
   "metadata": {},
   "outputs": [
    {
     "name": "stdout",
     "output_type": "stream",
     "text": [
      "[[ 2.21406965 11.27627041 -2.154302  ]]\n",
      "[4.14551801]\n"
     ]
    }
   ],
   "source": [
    "df_majority = df_model[df_model.High_Solar == 0]\n",
    "df_minority = df_model[df_model.High_Solar == 1]\n",
    "df_minority_upsampled = resample(df_minority, replace=True, n_samples=len(df_majority), random_state=42)\n",
    "df_upsampled = pd.concat([df_majority, df_minority_upsampled])\n",
    "\n",
    "\n",
    "X_up = df_upsampled[feature_cols]\n",
    "y_up = df_upsampled['High_Solar']\n",
    "\n",
    "scaler = StandardScaler()\n",
    "X_up_scaled = scaler.fit_transform(X_up)\n",
    "\n",
    "X_train_up, X_test_up, y_train_up, y_test_up = train_test_split(X_up_scaled, y_up, test_size=0.2, random_state=42)\n",
    "\n",
    "svm_model = SVC(kernel='linear', random_state=42)\n",
    "svm_model.fit(X_train_up, y_train_up)\n",
    "\n",
    "y_pred_svm = svm_model.predict(X_test_up)\n",
    "report_svm = classification_report(y_test_up, y_pred_svm, output_dict=False)\n",
    "\n",
    "svm_coef = svm_model.coef_\n",
    "svm_intercept = svm_model.intercept_\n",
    "\n",
    "print(svm_coef)\n",
    "print(svm_intercept)"
   ]
  },
  {
   "cell_type": "code",
   "execution_count": 16,
   "metadata": {},
   "outputs": [
    {
     "name": "stdout",
     "output_type": "stream",
     "text": [
      "              precision    recall  f1-score   support\n",
      "\n",
      "           0       0.91      0.97      0.94       795\n",
      "           1       0.97      0.91      0.94       816\n",
      "\n",
      "    accuracy                           0.94      1611\n",
      "   macro avg       0.94      0.94      0.94      1611\n",
      "weighted avg       0.94      0.94      0.94      1611\n",
      "\n"
     ]
    }
   ],
   "source": [
    "print(report_svm)"
   ]
  }
 ],
 "metadata": {
  "kernelspec": {
   "display_name": "Python 3",
   "language": "python",
   "name": "python3"
  },
  "language_info": {
   "codemirror_mode": {
    "name": "ipython",
    "version": 3
   },
   "file_extension": ".py",
   "mimetype": "text/x-python",
   "name": "python",
   "nbconvert_exporter": "python",
   "pygments_lexer": "ipython3",
   "version": "3.12.1"
  }
 },
 "nbformat": 4,
 "nbformat_minor": 2
}
